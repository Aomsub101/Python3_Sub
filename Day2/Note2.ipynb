{
 "cells": [
  {
   "cell_type": "markdown",
   "metadata": {},
   "source": [
    "# Multi Flying Circle"
   ]
  },
  {
   "cell_type": "code",
   "execution_count": 16,
   "metadata": {},
   "outputs": [],
   "source": [
    "import pygame\n",
    "import random as r\n",
    "\n",
    "class Circle:\n",
    "    \"\"\"\n",
    "    Circle class\n",
    "    \"\"\"\n",
    "    def __init__(self, radius, x, y, color, vx, vy) -> None:\n",
    "        self.radius = radius\n",
    "        self.x = x\n",
    "        self.y = y\n",
    "        self.color = color\n",
    "        self.vx = vx\n",
    "        self.vy = vy\n",
    "\n",
    "    def draw(self, screen) -> None:\n",
    "        \"\"\"\n",
    "        Draw circle at (x, y)\n",
    "        \"\"\"\n",
    "        pygame.draw.circle(screen, self.color, (self.x, self.y), self.radius)\n",
    "\n",
    "    def move(self, window_width, window_height) -> None:\n",
    "        \"\"\"\n",
    "        Move the circle by shift_x and shift_y\n",
    "        \"\"\"\n",
    "        if self.x > window_width - self.radius or self.x < self.radius:\n",
    "            self.vx = -self.vx\n",
    "        if self.y > window_height - self.radius or self.y < self.radius:\n",
    "            self.vy = -self.vy\n",
    "\n",
    "        self.x += self.vx\n",
    "        self.y += self.vy\n",
    "\n",
    "\n",
    "if __name__ == \"__main__\":\n",
    "    window_width = 500\n",
    "    window_height = 500\n",
    "\n",
    "    N = 20\n",
    "\n",
    "    circles = []\n",
    "    for i in range(N):\n",
    "        radius = r.randint(10, 40)\n",
    "        x = r.randint(radius, window_width-radius)\n",
    "        y = r.randint(radius, window_width-radius)\n",
    "        vx = r.randint(-5, 5)\n",
    "        vy = r.randint(-5, 5)\n",
    "        R = r.randint(0, 255)\n",
    "        G = r.randint(0, 255)\n",
    "        B = r.randint(0, 255)\n",
    "        circles.append(Circle(radius, x, y, (R,G,B), vx, vy))\n",
    "\n",
    "    pygame.init()\n",
    "\n",
    "    screen = pygame.display.set_mode((window_width, window_height)) # set screen size\n",
    "    pygame.display.set_caption(\"Flying Circle\") # set the title\n",
    "    clock = pygame.time.Clock() # Clock, I guess.\n",
    "\n",
    "    running = True\n",
    "    while running:\n",
    "        for event in pygame.event.get():\n",
    "            if event.type == pygame.QUIT:\n",
    "                running = False\n",
    "                break\n",
    "\n",
    "        screen.fill((255, 255, 255)) # fill with white\n",
    "\n",
    "        for circle in circles:\n",
    "            circle.move(window_width, window_height)\n",
    "            circle.draw(screen)\n",
    "\n",
    "        pygame.display.flip()\n",
    "\n",
    "        clock.tick(60) # set to 144 fps\n",
    "\n",
    "    pygame.quit()"
   ]
  },
  {
   "cell_type": "code",
   "execution_count": null,
   "metadata": {},
   "outputs": [],
   "source": []
  },
  {
   "cell_type": "markdown",
   "metadata": {},
   "source": []
  }
 ],
 "metadata": {
  "kernelspec": {
   "display_name": "my_app",
   "language": "python",
   "name": "python3"
  },
  "language_info": {
   "codemirror_mode": {
    "name": "ipython",
    "version": 3
   },
   "file_extension": ".py",
   "mimetype": "text/x-python",
   "name": "python",
   "nbconvert_exporter": "python",
   "pygments_lexer": "ipython3",
   "version": "3.12.4"
  }
 },
 "nbformat": 4,
 "nbformat_minor": 2
}
