{
 "cells": [
  {
   "cell_type": "markdown",
   "metadata": {},
   "source": [
    "# Debugging"
   ]
  },
  {
   "cell_type": "markdown",
   "metadata": {},
   "source": [
    "## Printing drawback"
   ]
  },
  {
   "cell_type": "code",
   "execution_count": null,
   "metadata": {},
   "outputs": [],
   "source": [
    "import time\n",
    "\n",
    "st1 = time.time()\n",
    "s = 0\n",
    "for i in range(100000):\n",
    "    s += i\n",
    "ed1 = time.time()\n",
    "\n",
    "st2 = time.time()   \n",
    "s = 0\n",
    "for i in range(100000):\n",
    "    s += i\n",
    "    print(s)\n",
    "ed2 = time.time()\n",
    "\n",
    "without_print = ed1 - st1\n",
    "with_print = ed2 - st2\n",
    "ratio = with_print/without_print\n",
    "\n",
    "print(f\"Without print: {without_print}\") # Time takes: 0.028 (approx.)\n",
    "print(f\"With print: {with_print}\") # Time takes: 0.430 (approx.)\n",
    "print(f\"Ratio: {ratio} \") # Ratio: 15.23 (approx.)\n"
   ]
  },
  {
   "cell_type": "markdown",
   "metadata": {},
   "source": [
    "# Plotting"
   ]
  },
  {
   "cell_type": "markdown",
   "metadata": {},
   "source": [
    "### sample"
   ]
  },
  {
   "cell_type": "code",
   "execution_count": null,
   "metadata": {},
   "outputs": [],
   "source": [
    "import pygame\n",
    "import math\n",
    "import random\n",
    "import logging\n",
    "\n",
    "logging.basicConfig(level=logging.INFO)\n",
    "\n",
    "logger = logging.getLogger()\n",
    "logger.info(\"Program started\")\n",
    "\n",
    "def f(x):\n",
    "    return x**2\n",
    "\n",
    "pygame.init()\n",
    "\n",
    "w = 600\n",
    "h = 600\n",
    "\n",
    "screen = pygame.display.set_mode((w, h))\n",
    "pygame.display.set_caption(\"Draw graph\")\n",
    "\n",
    "running = True\n",
    "\n",
    "while running:\n",
    "    for event in pygame.event.get():\n",
    "        if event.type == pygame.QUIT:\n",
    "            running = False\n",
    "            break\n",
    "\n",
    "    screen.fill((0, 0, 0))\n",
    "\n",
    "    for x in range(w):\n",
    "        x = random.randint(0, w)\n",
    "        y = random.randint(0, h)\n",
    "        screen.set_at((x, y), (255, 255, 255))\n",
    "        # pygame.draw.line(screen, (0, 255, 0), (10, 10), (300, 300))\n",
    "\n",
    "    pygame.display.flip()\n",
    "\n",
    "pygame.quit()"
   ]
  },
  {
   "cell_type": "markdown",
   "metadata": {},
   "source": [
    "### my code"
   ]
  },
  {
   "cell_type": "code",
   "execution_count": null,
   "metadata": {},
   "outputs": [],
   "source": []
  },
  {
   "cell_type": "markdown",
   "metadata": {},
   "source": []
  }
 ],
 "metadata": {
  "kernelspec": {
   "display_name": "my_app",
   "language": "python",
   "name": "python3"
  },
  "language_info": {
   "codemirror_mode": {
    "name": "ipython",
    "version": 3
   },
   "file_extension": ".py",
   "mimetype": "text/x-python",
   "name": "python",
   "nbconvert_exporter": "python",
   "pygments_lexer": "ipython3",
   "version": "3.12.4"
  }
 },
 "nbformat": 4,
 "nbformat_minor": 2
}
