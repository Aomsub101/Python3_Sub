{
 "cells": [
  {
   "cell_type": "markdown",
   "metadata": {},
   "source": [
    "# Numpy"
   ]
  },
  {
   "cell_type": "code",
   "execution_count": null,
   "metadata": {},
   "outputs": [],
   "source": [
    "import numpy as np\n",
    "import time\n",
    "\n",
    "N = 100000\n",
    "\n",
    "nums_list = [i for i in range(N)]\n",
    "\n",
    "start = time.time()\n",
    "sqr_list = [v**2 for v in nums_list]\n",
    "end = time.time()\n",
    "print(f\"List comprehension time: {end - start}\")\n",
    "\n",
    "nums_array = np.array(nums_list)\n",
    "print(nums_array.shape)\n",
    "\n",
    "start = time.time()\n",
    "nums_array *= 2\n",
    "end = time.time()\n",
    "print(f\"Array time: {end - start}\")\n"
   ]
  },
  {
   "cell_type": "markdown",
   "metadata": {},
   "source": []
  }
 ],
 "metadata": {
  "kernelspec": {
   "display_name": "my_app",
   "language": "python",
   "name": "python3"
  },
  "language_info": {
   "codemirror_mode": {
    "name": "ipython",
    "version": 3
   },
   "file_extension": ".py",
   "mimetype": "text/x-python",
   "name": "python",
   "nbconvert_exporter": "python",
   "pygments_lexer": "ipython3",
   "version": "3.12.4"
  }
 },
 "nbformat": 4,
 "nbformat_minor": 2
}
