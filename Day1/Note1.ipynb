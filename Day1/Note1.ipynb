{
 "cells": [
  {
   "cell_type": "markdown",
   "metadata": {},
   "source": [
    "# Flying Circle\n",
    "---"
   ]
  },
  {
   "cell_type": "code",
   "execution_count": 23,
   "metadata": {},
   "outputs": [],
   "source": [
    "import time"
   ]
  },
  {
   "cell_type": "code",
   "execution_count": null,
   "metadata": {},
   "outputs": [],
   "source": [
    "class Circle:\n",
    "    \"\"\"\n",
    "    Circle class\n",
    "    \"\"\"\n",
    "    def __init__(self, radius, x, y, width=100, height=100) -> None:\n",
    "        self.radius = radius\n",
    "        self.x = x\n",
    "        self.y = y\n",
    "        self.window_width = width\n",
    "        self.window_height = height\n",
    "\n",
    "    def draw(self) -> None:\n",
    "        \"\"\"\n",
    "        Draw circle at (x, y)\n",
    "        \"\"\"\n",
    "        print(f\"x:{self.x}, y:{self.y}\")\n",
    "\n",
    "    def move(self, x_bound, y_bound) -> None:\n",
    "        \"\"\"\n",
    "        Move the circle by +1\n",
    "        \"\"\"\n",
    "        if x_bound:\n",
    "            self.x -= 1\n",
    "        else:\n",
    "            self.x += 1\n",
    "        if y_bound:\n",
    "            self.y -= 1\n",
    "        else:\n",
    "            self.y += 1\n",
    "\n",
    "if __name__ == \"__main__\":\n",
    "    window_width = 100\n",
    "    window_height = 100\n",
    "\n",
    "    x_bound = False\n",
    "    y_bound = False\n",
    " \n",
    "    c = Circle(10, 0, 20, window_width, window_height)\n",
    "    \n",
    "    # t1 = time.time()\n",
    "    for i in range(100):\n",
    "        if c.x == c.window_width:\n",
    "            x_bound = True\n",
    "        elif c.x == 0:\n",
    "            x_bound = False\n",
    "\n",
    "        if c.y == c.window_height:\n",
    "            y_bound = True\n",
    "        elif c.y == 0:\n",
    "            y_bound = False\n",
    "\n",
    "        c.move(x_bound, y_bound)\n",
    "        c.draw()\n",
    "    # t2 = time.time()\n",
    "    # print(f\"Time taken: {t2-t1}\")"
   ]
  },
  {
   "cell_type": "code",
   "execution_count": null,
   "metadata": {},
   "outputs": [],
   "source": [
    "class Circle:\n",
    "    \"\"\"\n",
    "    Circle class\n",
    "    \"\"\"\n",
    "    def __init__(self, radius, x, y, width=100, height=100) -> None:\n",
    "        self.radius = radius\n",
    "        self.x = x\n",
    "        self.y = y\n",
    "        self.window_width = width\n",
    "        self.window_height = height\n",
    "\n",
    "    def draw(self) -> None:\n",
    "        \"\"\"\n",
    "        Draw circle at (x, y)\n",
    "        \"\"\"\n",
    "        print(f\"x:{self.x}, y:{self.y}\")\n",
    "\n",
    "    def move(self, shift_x, shift_y) -> None:\n",
    "        \"\"\"\n",
    "        Move the circle by shift_x and shift_y\n",
    "        \"\"\"\n",
    "        self.x += shift_x\n",
    "        self.y += shift_y\n",
    "\n",
    "if __name__ == \"__main__\":\n",
    "    window_width = 100\n",
    "    window_height = 100\n",
    "\n",
    "    x_bound = False\n",
    "    y_bound = False\n",
    " \n",
    "    c = Circle(10, 0, 20, window_width, window_height)\n",
    "    vx = 1\n",
    "    vy = 1\n",
    "    for i in range(100):\n",
    "        c.move(vx, vy)\n",
    "        c.draw()\n",
    "        if c.x == c.window_width or c.x == 0:\n",
    "            vx = -vx\n",
    "        if c.y == c.window_height or c.y == 0:\n",
    "            vy = -vy"
   ]
  },
  {
   "cell_type": "markdown",
   "metadata": {},
   "source": []
  }
 ],
 "metadata": {
  "kernelspec": {
   "display_name": "my_app",
   "language": "python",
   "name": "python3"
  },
  "language_info": {
   "codemirror_mode": {
    "name": "ipython",
    "version": 3
   },
   "file_extension": ".py",
   "mimetype": "text/x-python",
   "name": "python",
   "nbconvert_exporter": "python",
   "pygments_lexer": "ipython3",
   "version": "3.12.4"
  }
 },
 "nbformat": 4,
 "nbformat_minor": 2
}
